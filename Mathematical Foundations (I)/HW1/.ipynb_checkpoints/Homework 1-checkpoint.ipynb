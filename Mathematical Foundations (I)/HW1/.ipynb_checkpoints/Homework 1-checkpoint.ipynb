{
 "cells": [
  {
   "cell_type": "code",
   "execution_count": 1,
   "metadata": {},
   "outputs": [],
   "source": [
    "import requests\n",
    "import numpy as np\n",
    "\n",
    "\n",
    "def download_data(url,filename):\n",
    "    result = requests.get(url)\n",
    "    result.raise_for_status()\n",
    "    with open(filename,'wb') as FILE:\n",
    "        for chunk in result.iter_content(102400):\n",
    "            FILE.write(chunk)"
   ]
  },
  {
   "cell_type": "code",
   "execution_count": 122,
   "metadata": {},
   "outputs": [],
   "source": [
    "url01 = 'https://www.csie.ntu.edu.tw/~htlin/mooc/datasets/mlfound_math/hw1_15_train.dat'\n",
    "url02 = 'https://www.csie.ntu.edu.tw/~htlin/mooc/datasets/mlfound_math/hw1_18_test.dat'\n",
    "url03 = 'https://www.csie.ntu.edu.tw/~htlin/mooc/datasets/mlfound_math/hw1_18_train.dat'\n",
    "download_data(url01, 'data_set.txt')\n",
    "download_data(url02, 'training_data.txt')\n",
    "download_data(url03, 'test_data.txt')"
   ]
  },
  {
   "cell_type": "code",
   "execution_count": 123,
   "metadata": {},
   "outputs": [
    {
     "name": "stdout",
     "output_type": "stream",
     "text": [
      "[[1.       0.97681  0.10723  0.64385  0.29556 ]\n",
      " [1.       0.67194  0.2418   0.83075  0.42741 ]\n",
      " [1.       0.20619  0.23321  0.81004  0.98691 ]\n",
      " ...\n",
      " [1.       0.93895  0.93941  0.72496  0.95655 ]\n",
      " [1.       0.046136 0.94413  0.038311 0.26812 ]\n",
      " [1.       0.072491 0.2242   0.62592  0.67238 ]] 400\n"
     ]
    }
   ],
   "source": [
    "with open('data_set.txt','r') as FILE:\n",
    "    n = 0\n",
    "    Dx = []\n",
    "    Dy = []\n",
    "    for chunk in FILE:\n",
    "        X= chunk.split()   #split the line into a list of string\n",
    "        X= [ float(X[j]) for j in range(len(X)) ]  #convert the string to numbers   \n",
    "        X.insert(0,1)\n",
    "        Dx.append(X[0:len(X)-1])     #gather all data \n",
    "        Dy.append(X[len(X)-1])\n",
    "        n=n+1\n",
    "    x = np.array(Dx)  #change list X into array x\n",
    "    y = np.array(Dy)\n",
    "print(x,n)"
   ]
  },
  {
   "cell_type": "code",
   "execution_count": 107,
   "metadata": {},
   "outputs": [
    {
     "name": "stdout",
     "output_type": "stream",
     "text": [
      "[-3.         2.2176136 -1.002694   2.873445   3.6551355] 400 37 363 1\n",
      "[-3.         3.0841436 -1.583081   2.391305   4.5287635] 400 45 392 2\n",
      "[-3.         3.0841436 -1.583081   2.391305   4.5287635] 400 45 400 3\n"
     ]
    }
   ],
   "source": [
    "#naive cycle\n",
    "i = 0\n",
    "fail = 0\n",
    "success = 0\n",
    "rounds = 0\n",
    "w = np.array([0.0,0.0,0.0,0.0,0.0])\n",
    "\n",
    "#v = np.array([1,0.0,0.0,0.0,0.0])   #This also works\n",
    "#while any(v-w):                     #This also works\n",
    "\n",
    "while success!=n:\n",
    "#    v = w\n",
    "    success=0\n",
    "    for i in range(n):\n",
    "        if w.dot(x[i]) != 0:\n",
    "            if np.sign(w.dot(x[i]))!=y[i]:   \n",
    "                w= w+y[i]*x[i]\n",
    "                fail=fail+1\n",
    "            else:\n",
    "                success=success+1\n",
    "        else:\n",
    "            if y[i] != -1:\n",
    "                w= w+y[i]*x[i]\n",
    "                fail=fail+1\n",
    "            else:\n",
    "                success=success+1\n",
    "        i=i+1    \n",
    "    rounds=rounds+1\n",
    "    print(w,i,fail,success,rounds)\n",
    "\n",
    "\n",
    "\n"
   ]
  },
  {
   "cell_type": "code",
   "execution_count": 118,
   "metadata": {},
   "outputs": [
    {
     "name": "stdout",
     "output_type": "stream",
     "text": [
      "39.976 79952 2191600\n"
     ]
    }
   ],
   "source": [
    "#randum cycle\n",
    "i = 0\n",
    "j = 0\n",
    "N = 2000\n",
    "fail = 0\n",
    "success = 0\n",
    "rounds = 0\n",
    "update = 0\n",
    "updates = 0\n",
    "eta = 0.5\n",
    "\n",
    "for times in range(N):    \n",
    "    random = np.random.choice(range(n), size=n, replace=False) #不重複隨機採樣\n",
    "    xrandom = np.array([x[random[j],:] for j in range(n)])\n",
    "    yrandom = np.array([y[random[j]] for j in range(n)])\n",
    "    success=0\n",
    "    update = 0\n",
    "    w = np.array([0.0,0.0,0.0,0.0,0.0])\n",
    "\n",
    "    while success!=n:\n",
    "        success=0\n",
    "        fail=0\n",
    "        for i in range(n):\n",
    "            if w.dot(xrandom[i]) != 0:\n",
    "                if np.sign(w.dot(xrandom[i]))!=yrandom[i]:   \n",
    "                    w= w+eta*yrandom[i]*xrandom[i]\n",
    "                    fail=fail+1\n",
    "                else:\n",
    "                    success=success+1\n",
    "            else:\n",
    "                if yrandom[i] != -1:\n",
    "                    w= w+eta*yrandom[i]*xrandom[i]\n",
    "                    fail=fail+1\n",
    "                else:\n",
    "                    success=success+1\n",
    "            i=i+1    \n",
    "            rounds=rounds+1\n",
    "        update=update+fail\n",
    "#        print(w,i,fail,success,update,rounds)\n",
    "    updates = updates + update\n",
    "\n",
    "\n",
    "ave = updates/N\n",
    "\n",
    "print(ave,updates,rounds)\n",
    "\n"
   ]
  },
  {
   "cell_type": "code",
   "execution_count": 121,
   "metadata": {
    "scrolled": true
   },
   "outputs": [
    {
     "name": "stdout",
     "output_type": "stream",
     "text": [
      "38.1965 76393 2070400\n"
     ]
    }
   ],
   "source": [
    "#purely random\n",
    "i = 0\n",
    "j = 0\n",
    "N = 2000\n",
    "fail = 0\n",
    "success = 0\n",
    "rounds = 0\n",
    "update = 0\n",
    "updates = 0\n",
    "eta = 0.5\n",
    "\n",
    "for times in range(N):    \n",
    "    random = np.random.choice(range(n), size=n) #隨機採樣\n",
    "    xrandom = np.array([x[random[j],:] for j in range(n)])\n",
    "    yrandom = np.array([y[random[j]] for j in range(n)])\n",
    "    success=0\n",
    "    update = 0\n",
    "    w = np.array([0.0,0.0,0.0,0.0,0.0])\n",
    "\n",
    "    while success!=n:\n",
    "        success=0\n",
    "        fail=0\n",
    "        for i in range(n):\n",
    "            if w.dot(xrandom[i]) != 0:\n",
    "                if np.sign(w.dot(xrandom[i]))!=yrandom[i]:   \n",
    "                    w= w+eta*yrandom[i]*xrandom[i]\n",
    "                    fail=fail+1\n",
    "                else:\n",
    "                    success=success+1\n",
    "            else:\n",
    "                if yrandom[i] != -1:\n",
    "                    w= w+eta*yrandom[i]*xrandom[i]\n",
    "                    fail=fail+1\n",
    "                else:\n",
    "                    success=success+1\n",
    "            i=i+1    \n",
    "            rounds=rounds+1\n",
    "        update=update+fail\n",
    "#        print(w,i,fail,success,update,rounds)\n",
    "    updates = updates + update\n",
    "\n",
    "\n",
    "ave = updates/N\n",
    "\n",
    "print(ave,updates,rounds)"
   ]
  },
  {
   "cell_type": "code",
   "execution_count": null,
   "metadata": {},
   "outputs": [],
   "source": []
  },
  {
   "cell_type": "code",
   "execution_count": null,
   "metadata": {},
   "outputs": [],
   "source": []
  },
  {
   "cell_type": "code",
   "execution_count": null,
   "metadata": {},
   "outputs": [],
   "source": []
  },
  {
   "cell_type": "code",
   "execution_count": null,
   "metadata": {},
   "outputs": [],
   "source": []
  }
 ],
 "metadata": {
  "kernelspec": {
   "display_name": "Python 3",
   "language": "python",
   "name": "python3"
  },
  "language_info": {
   "codemirror_mode": {
    "name": "ipython",
    "version": 3
   },
   "file_extension": ".py",
   "mimetype": "text/x-python",
   "name": "python",
   "nbconvert_exporter": "python",
   "pygments_lexer": "ipython3",
   "version": "3.7.6"
  }
 },
 "nbformat": 4,
 "nbformat_minor": 4
}
