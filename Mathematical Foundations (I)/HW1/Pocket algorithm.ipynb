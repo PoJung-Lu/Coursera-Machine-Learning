{
 "cells": [
  {
   "cell_type": "code",
   "execution_count": 1,
   "metadata": {},
   "outputs": [],
   "source": [
    "import requests\n",
    "import numpy as np\n",
    "\n",
    "\n",
    "def download_data(url,filename):\n",
    "    result = requests.get(url)\n",
    "    result.raise_for_status()\n",
    "    with open(filename,'wb') as FILE:\n",
    "        for chunk in result.iter_content(102400):\n",
    "            FILE.write(chunk)\n",
    "def readout(filename):\n",
    "    with open(filename,'r') as FILE:\n",
    "        n = 0\n",
    "        Dx = []\n",
    "        Dy = []\n",
    "        for chunk in FILE:\n",
    "            X= chunk.split()   #split the line into a list of string\n",
    "            X= [ float(X[j]) for j in range(len(X)) ]  #convert the string to numbers   \n",
    "            X.insert(0,1)\n",
    "            Dx.append(X[0:len(X)-1])     #gather all data ## index len(X)-1 will not be included here\n",
    "            Dy.append(X[len(X)-1])       #index len(X)-1 only\n",
    "            n=n+1\n",
    "        x = np.array(Dx)  #change list X into array x\n",
    "        y = np.array(Dy)\n",
    "    print(x,n)            \n",
    "    return x,y,n\n",
    "            \n",
    "def errornum(datasize,xtest,ytest,w):\n",
    "    er=0\n",
    "\n",
    "    for i in range(datasize):        \n",
    "        if w.dot(xtest[i]) != 0:\n",
    "            if np.sign(w.dot(xtest[i]))!=ytest[i]:   \n",
    "                er=er+1\n",
    "        else:\n",
    "            if ytest[i] != -1:\n",
    "                er=er+1\n",
    "    return er\n",
    "\n",
    "\n",
    "            \n",
    "url01 = 'https://www.csie.ntu.edu.tw/~htlin/mooc/datasets/mlfound_math/hw1_15_train.dat'\n",
    "url03 = 'https://www.csie.ntu.edu.tw/~htlin/mooc/datasets/mlfound_math/hw1_18_train.dat'\n",
    "url02 = 'https://www.csie.ntu.edu.tw/~htlin/mooc/datasets/mlfound_math/hw1_18_test.dat'\n",
    "download_data(url01, 'data_set.txt')\n",
    "download_data(url02, 'training_data.txt')\n",
    "download_data(url03, 'test_data.txt')"
   ]
  },
  {
   "cell_type": "code",
   "execution_count": 2,
   "metadata": {},
   "outputs": [
    {
     "name": "stdout",
     "output_type": "stream",
     "text": [
      "[[1.       0.62926  0.32783  0.010417 0.73102 ]\n",
      " [1.       0.32368  0.61439  0.42097  0.025626]\n",
      " [1.       0.15968  0.83346  0.97515  0.32762 ]\n",
      " ...\n",
      " [1.       0.34445  0.30929  0.049222 0.49242 ]\n",
      " [1.       0.040789 0.28334  0.55817  0.60612 ]\n",
      " [1.       0.36302  0.34961  0.12651  0.54315 ]] 500\n",
      "[[1.       0.94544  0.42842  0.79833  0.16244 ]\n",
      " [1.       0.85365  0.084168 0.5682   0.49221 ]\n",
      " [1.       0.17095  0.82127  0.98444  0.51486 ]\n",
      " ...\n",
      " [1.       0.078827 0.3823   0.13965  0.82677 ]\n",
      " [1.       0.92288  0.86313  0.22939  0.92214 ]\n",
      " [1.       0.50315  0.41884  0.026094 0.91623 ]] 500\n"
     ]
    }
   ],
   "source": [
    "trainx, trainy, trainn = readout('training_data.txt')\n",
    "testx, testy, testn = readout('test_data.txt')"
   ]
  },
  {
   "cell_type": "code",
   "execution_count": 3,
   "metadata": {},
   "outputs": [
    {
     "name": "stdout",
     "output_type": "stream",
     "text": [
      "average error rate is 0.356288 ,and maxupdate value is 50\n"
     ]
    }
   ],
   "source": [
    "#Pocket algorithm with purely random chosen x\n",
    "\n",
    "i = 0\n",
    "j = 0\n",
    "N = 2000\n",
    "fail = 0\n",
    "success = 0\n",
    "rounds = 0\n",
    "update = 0\n",
    "updates = 0\n",
    "eta = 1\n",
    "err = 0\n",
    "maxupdate = 50\n",
    "n = trainn\n",
    "\n",
    "for times in range(N):    \n",
    "    random = np.random.choice(range(n), size=n) #隨機採樣\n",
    "    xrandom = np.array([trainx[random[j],:] for j in range(n)])\n",
    "    yrandom = np.array([trainy[random[j]] for j in range(n)])\n",
    "    xtest = np.array([testx[random[j],:] for j in range(n)])\n",
    "    ytest = np.array([testy[random[j]] for j in range(n)])\n",
    "    success=0\n",
    "    update = 0\n",
    "    w = np.array([0.0,0.0,0.0,0.0,0.0])\n",
    "    w1, w2 = w, w+1\n",
    "    s0=0\n",
    "    s=0\n",
    "    rounds = 0\n",
    "    \n",
    "    while update<maxupdate:\n",
    "        success=0\n",
    "        fail=0\n",
    "        s0=s\n",
    "        w2=w1\n",
    "        \n",
    "        \n",
    "        for i in range(n):\n",
    "            if w.dot(xrandom[i]) != 0:\n",
    "                if np.sign(w.dot(xrandom[i]))!=yrandom[i]:   \n",
    "                    w= w+eta*yrandom[i]*xrandom[i]\n",
    "                    fail=fail+1\n",
    "                else:\n",
    "                    success=success+1\n",
    "            else:\n",
    "                if yrandom[i] != -1:\n",
    "                    w= w+eta*yrandom[i]*xrandom[i]\n",
    "                    fail=fail+1\n",
    "                else:\n",
    "                    success=success+1\n",
    "            i=i+1    \n",
    "            rounds=rounds+1\n",
    "            if update+fail>=maxupdate:\n",
    "                break            \n",
    "        s=success\n",
    "        \n",
    "        if s>=s0 or rounds==0:   #'pocket' the better w       \n",
    "            w1=w\n",
    "        \n",
    "        update=update+fail\n",
    "#        print(f,f0,w1[1],w2[1],update,updates)\n",
    "\n",
    "\n",
    "    \n",
    "    err = err+errornum(n,xtest,ytest,w1)    #check error rate of w1 with test data in every cycle\n",
    "    \n",
    "#    updates = updates + update\n",
    "#    print(times+1, 'th cycle done')\n",
    "#ave = updates/N\n",
    "print('average error rate is', err/N/n, ',and maxupdate value is',update)"
   ]
  },
  {
   "cell_type": "code",
   "execution_count": null,
   "metadata": {},
   "outputs": [],
   "source": []
  },
  {
   "cell_type": "code",
   "execution_count": null,
   "metadata": {},
   "outputs": [],
   "source": []
  },
  {
   "cell_type": "code",
   "execution_count": 4,
   "metadata": {},
   "outputs": [
    {
     "name": "stdout",
     "output_type": "stream",
     "text": [
      "average error rate is 0.604483 , and maxupdate value is 100\n"
     ]
    }
   ],
   "source": [
    "i = 0\n",
    "j = 0\n",
    "N = 2000\n",
    "fail = 0\n",
    "success = 0\n",
    "rounds = 0\n",
    "update = 0\n",
    "updates = 0\n",
    "eta = 1\n",
    "err = 0\n",
    "maxupdate = 100\n",
    "n = trainn\n",
    "\n",
    "for times in range(N):    \n",
    "    random = np.random.choice(range(n), size=n) #隨機採樣\n",
    "    xrandom = np.array([trainx[random[j],:] for j in range(n)])\n",
    "    yrandom = np.array([trainy[random[j]] for j in range(n)])\n",
    "    xtest = np.array([testx[random[j],:] for j in range(n)])\n",
    "    ytest = np.array([testy[random[j]] for j in range(n)])\n",
    "    success=0\n",
    "    update = 0\n",
    "    w = np.array([0.0,0.0,0.0,0.0,0.0])\n",
    "\n",
    "    while update<maxupdate:\n",
    "        success=0\n",
    "        fail=0\n",
    "        for i in range(n):\n",
    "            if w.dot(xrandom[i]) != 0:\n",
    "                if np.sign(w.dot(xrandom[i]))!=yrandom[i]:   \n",
    "                    w= w+eta*yrandom[i]*xrandom[i]\n",
    "                    fail=fail+1\n",
    "                else:\n",
    "                    success=success+1\n",
    "            else:\n",
    "                if yrandom[i] != -1:\n",
    "                    w= w+eta*yrandom[i]*xrandom[i]\n",
    "                    fail=fail+1\n",
    "                else:\n",
    "                    success=success+1\n",
    "            i=i+1    \n",
    "            rounds=rounds+1\n",
    "            if update+fail>=maxupdate:\n",
    "                break\n",
    "        update=update+fail\n",
    "#        print(w,i,fail,success,update,rounds)\n",
    "    updates = updates + update\n",
    "\n",
    "    err = err+errornum(n,xtest,ytest,w1)    #check error rate of w1 with test data in every cycle\n",
    "    \n",
    "\n",
    "print('average error rate is', err/N/n,', and maxupdate value is',update)\n",
    "#ave = updates/N\n"
   ]
  },
  {
   "cell_type": "code",
   "execution_count": 5,
   "metadata": {},
   "outputs": [
    {
     "data": {
      "text/plain": [
       "int"
      ]
     },
     "execution_count": 5,
     "metadata": {},
     "output_type": "execute_result"
    }
   ],
   "source": [
    "type(range(5)[0])"
   ]
  },
  {
   "cell_type": "code",
   "execution_count": 6,
   "metadata": {},
   "outputs": [],
   "source": [
    "w = np.array([0.0,0.0,0.0,0.0,0.0])\n",
    "w1=w+1"
   ]
  },
  {
   "cell_type": "code",
   "execution_count": null,
   "metadata": {},
   "outputs": [],
   "source": []
  }
 ],
 "metadata": {
  "kernelspec": {
   "display_name": "Python 3",
   "language": "python",
   "name": "python3"
  },
  "language_info": {
   "codemirror_mode": {
    "name": "ipython",
    "version": 3
   },
   "file_extension": ".py",
   "mimetype": "text/x-python",
   "name": "python",
   "nbconvert_exporter": "python",
   "pygments_lexer": "ipython3",
   "version": "3.7.6"
  }
 },
 "nbformat": 4,
 "nbformat_minor": 4
}
