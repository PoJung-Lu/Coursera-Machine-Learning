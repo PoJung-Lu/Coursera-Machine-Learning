{
 "cells": [
  {
   "cell_type": "code",
   "execution_count": null,
   "metadata": {},
   "outputs": [],
   "source": []
  },
  {
   "cell_type": "code",
   "execution_count": 1,
   "metadata": {},
   "outputs": [],
   "source": [
    "import numpy as np"
   ]
  },
  {
   "cell_type": "code",
   "execution_count": 2,
   "metadata": {},
   "outputs": [
    {
     "name": "stdout",
     "output_type": "stream",
     "text": [
      "(-2.0, 0.0)\n"
     ]
    }
   ],
   "source": [
    "#Q7:\n",
    "u, v, uprime, vprime= 0.0,0.0,0.0,0.0\n",
    "gradE = (np.exp(u) +v*np.exp(u*v) +2*u -2*v -3, 2*np.exp(2*v) +u*np.exp(u*v) -2*u +4*v -2)\n",
    "print(gradE)"
   ]
  },
  {
   "cell_type": "code",
   "execution_count": 3,
   "metadata": {},
   "outputs": [
    {
     "name": "stdout",
     "output_type": "stream",
     "text": [
      "0.02 0.0\n",
      "0.03939798659973244 0.00020000000000000017\n",
      "0.05821018304471123 0.000577975161369042\n",
      "0.07645238140853602 0.0011138060269582928\n",
      "0.09413996302028127 0.0017891105951028273\n"
     ]
    }
   ],
   "source": [
    "u,v = 0,0\n",
    "for i in range(5): \n",
    "    gradE = (np.exp(u) +v*np.exp(u*v) +2*u -2*v -3, 2*np.exp(2*v) +u*np.exp(u*v) -2*u +4*v -2)\n",
    "    (u,v) = ((x-0.01*y) for (x,y) in zip((u,v),gradE))\n",
    "    print(u,v)\n"
   ]
  },
  {
   "cell_type": "code",
   "execution_count": 4,
   "metadata": {},
   "outputs": [
    {
     "data": {
      "text/plain": [
       "2.8250003566832635"
      ]
     },
     "execution_count": 4,
     "metadata": {},
     "output_type": "execute_result"
    }
   ],
   "source": [
    "#u,v = 0,0\n",
    "E = np.exp(u) +np.exp(2*v) +np.exp(u*v) +u**2 -2*u*v +2*v**2 -3*u-2*v\n",
    "E"
   ]
  },
  {
   "cell_type": "code",
   "execution_count": 5,
   "metadata": {},
   "outputs": [
    {
     "name": "stdout",
     "output_type": "stream",
     "text": [
      "0.18181818181818182 0.0\n",
      "0.30974815511749576 0.016186861978202835\n",
      "0.3989115634575829 0.031511766362580365\n",
      "0.46129012020596355 0.04307221861390716\n",
      "0.5051464261954869 0.05127751497935236\n"
     ]
    },
    {
     "data": {
      "text/plain": [
       "2.382099543779512"
      ]
     },
     "execution_count": 5,
     "metadata": {},
     "output_type": "execute_result"
    }
   ],
   "source": [
    "u,v = 0,0\n",
    "for i in range(5): \n",
    "    gradE = (np.exp(u) +v*np.exp(u*v) +2*u -2*v -3, 2*np.exp(2*v) +u*np.exp(u*v) -2*u +4*v -2)/(np.exp(u)+v**2*np.exp(u*v)+2+4*np.exp(2*v)+u**2*np.exp(u*v)+4)\n",
    "    (u,v) = ((x-1*y) for (x,y) in zip((u,v),gradE))\n",
    "    print(u,v)\n",
    "E = np.exp(u) +np.exp(2*v) +np.exp(u*v) +u**2 -2*u*v +2*v**2 -3*u-2*v\n",
    "E"
   ]
  },
  {
   "cell_type": "code",
   "execution_count": 6,
   "metadata": {},
   "outputs": [
    {
     "name": "stdout",
     "output_type": "stream",
     "text": [
      " Eave =  0.50731 \n",
      " wlin =  [ 0.01134065  0.04750288 -0.02087271]\n"
     ]
    }
   ],
   "source": [
    "#Q13:\n",
    "import random\n",
    "\n",
    "t = 0\n",
    "Etot = 0\n",
    "\n",
    "while t< 100:\n",
    "\n",
    "    N = 1000\n",
    "    err = []\n",
    "    X, X0, y, y0 = [], [], [], []\n",
    "    \n",
    "    for i in range(N):\n",
    "        x1,x2 = random.uniform(-1.0,1.0) ,random.uniform(-1.0,1.0)   # -1<=x1<=1  -1<=x2<=1\n",
    "        f = np.sign(x1**2 + x2**2 - 0.6)                              \n",
    "        if random.random() <= 0.1 :                                  #10% flipping noise\n",
    "            noise = -1\n",
    "        else:\n",
    "            noise = 1\n",
    "\n",
    "        X.append([1,x1,x2])       #X  matrix  N*d+1   \n",
    "        y0.append(f)\n",
    "        y.append(f*noise)\n",
    "    Y0 = np.transpose(y0)        #Y0 vector N*1\n",
    "    Y = np.transpose(y)          #Y vector  N*1\n",
    "\n",
    "\n",
    "    psudoinv = np.linalg.pinv(X)       #psudoinv  d+1*N\n",
    "    wlin = np.dot(psudoinv,Y)  #wlin= psudoinv* Y\n",
    "    yhat = np.dot(X,wlin)\n",
    "\n",
    "    for a,b in zip(yhat,Y):\n",
    "        if a*b<0:\n",
    "            err.append(1)\n",
    "        else:\n",
    "            err.append(0)\n",
    "    Ein = sum(err) /N   \n",
    "    Etot = Etot+ Ein\n",
    "    t = t+1\n",
    "Eave = Etot/t     \n",
    "print(' Eave = ',Eave,'\\n','wlin = ',wlin)"
   ]
  },
  {
   "cell_type": "code",
   "execution_count": 7,
   "metadata": {},
   "outputs": [
    {
     "name": "stdout",
     "output_type": "stream",
     "text": [
      "Eave =  0.12469999999999998 \n",
      " wlin =  [-1.08746831 -0.0284284   0.01828168 -0.06165481  1.56058869  1.62883813]\n"
     ]
    }
   ],
   "source": [
    "#Q14.& Q15.\n",
    "\n",
    "t = 0\n",
    "Etot = 0\n",
    "\n",
    "while t< 100:\n",
    "\n",
    "    N = 1000\n",
    "    err = []\n",
    "    X, X0 ,y ,y0 = [],[] ,[] ,[]\n",
    "    \n",
    "    for i in range(N):\n",
    "        x1,x2 = random.uniform(-1.0,1.0) ,random.uniform(-1.0,1.0) \n",
    "        f = np.sign(x1**2 + x2**2 - 0.6)\n",
    "        #random.choices([-1.0,1.0], weights=[10, 90])[0]\n",
    "        if random.random() <= 0.1 :    \n",
    "            noise = -1\n",
    "        else:\n",
    "            noise = 1\n",
    "\n",
    "        X.append([1,x1,x2,x1*x2,x1**2,x2**2])       #X  matrix  N*d+1\n",
    "        y0.append(f)\n",
    "        y.append(f*noise)\n",
    "    Y0 = np.transpose(y0)        #Y0 vector N*1\n",
    "    Y = np.transpose(y)          #Y vector  N*1\n",
    "\n",
    "\n",
    "    psudoinv = np.linalg.pinv(X)       #psudoinv  d+1*N\n",
    "    wlin = np.dot(psudoinv,Y)  #wlin= psudoinv* Y\n",
    "    yhat = np.dot(X,wlin)\n",
    "\n",
    "    for a,b in zip(yhat,Y):\n",
    "        if a*b<0:\n",
    "            err.append(1)\n",
    "        else:\n",
    "            err.append(0)\n",
    "    Ein = sum(err) /N   \n",
    "    Etot = Etot+ Ein\n",
    "    t = t+1\n",
    "    \n",
    "    \n",
    "Eave = Etot/t     \n",
    "print('Eave = ',Eave,'\\n', 'wlin = ',wlin)"
   ]
  },
  {
   "cell_type": "code",
   "execution_count": 8,
   "metadata": {},
   "outputs": [
    {
     "data": {
      "text/plain": [
       "0.098"
      ]
     },
     "execution_count": 8,
     "metadata": {},
     "output_type": "execute_result"
    }
   ],
   "source": [
    "i = 0\n",
    "n = 10000000\n",
    "for j in range(N):\n",
    "    if random.random() <= 0.1 :\n",
    "        noise = -1\n",
    "        i = i+1\n",
    "    else:\n",
    "        noise = 1\n",
    "i/N"
   ]
  },
  {
   "cell_type": "code",
   "execution_count": 9,
   "metadata": {},
   "outputs": [
    {
     "data": {
      "text/plain": [
       "54"
      ]
     },
     "execution_count": 9,
     "metadata": {},
     "output_type": "execute_result"
    }
   ],
   "source": [
    "b = np.array([2,3,4,5])\n",
    "np.dot(b,b)"
   ]
  },
  {
   "cell_type": "code",
   "execution_count": 10,
   "metadata": {},
   "outputs": [
    {
     "name": "stdout",
     "output_type": "stream",
     "text": [
      "[[1.       0.57548  0.53938  ... 0.38317  0.35514  0.39439 ]\n",
      " [1.       0.70727  0.88503  ... 0.39012  0.68854  0.077076]\n",
      " [1.       0.24443  0.27331  ... 0.52541  0.93579  0.69411 ]\n",
      " ...\n",
      " [1.       0.18265  0.021352 ... 0.030984 0.99831  0.13292 ]\n",
      " [1.       0.27829  0.66993  ... 0.79203  0.76995  0.93146 ]\n",
      " [1.       0.9796   0.47349  ... 0.16425  0.24958  0.46893 ]] 1000\n",
      "[[1.       0.26502  0.5486   ... 0.85909  0.26772  0.13751 ]\n",
      " [1.       0.33274  0.4236   ... 0.78459  0.3385   0.95746 ]\n",
      " [1.       0.39866  0.8519   ... 0.70907  0.46856  0.41686 ]\n",
      " ...\n",
      " [1.       0.15646  0.92112  ... 0.35137  0.87387  0.53971 ]\n",
      " [1.       0.88009  0.35045  ... 0.36721  0.54853  0.043504]\n",
      " [1.       0.75742  0.55526  ... 0.80518  0.66021  0.24521 ]] 3000\n"
     ]
    }
   ],
   "source": [
    "#Q18:\n",
    "import requests\n",
    "import numpy as np\n",
    "\n",
    "\n",
    "def download_data(url,filename):    #download file as data\n",
    "    result = requests.get(url)\n",
    "    result.raise_for_status()\n",
    "    with open(filename,'wb') as FILE:\n",
    "        for chunk in result.iter_content(102400):\n",
    "            FILE.write(chunk)\n",
    "            \n",
    "url01 = 'https://www.csie.ntu.edu.tw/~htlin/mooc/datasets/mlfound_algo/hw3_train.dat'\n",
    "url02 = 'https://www.csie.ntu.edu.tw/~htlin/mooc/datasets/mlfound_algo/hw3_test.dat'\n",
    "download_data(url01, 'training_data.txt')\n",
    "download_data(url02, 'test_data.txt')\n",
    "    \n",
    "    \n",
    "def readout(filename):\n",
    "    with open(filename,'r') as FILE:\n",
    "        n, Dx, Dy = 0 ,[], []\n",
    "        \n",
    "        for chunk in FILE:\n",
    "            X= chunk.split()   #split the line into a list of string\n",
    "            X= [ float(X[j]) for j in range(len(X)) ]  #convert the string to numbers   \n",
    "            X.insert(0,1)                #insert a constant as bias or as threshold\n",
    "            Dx.append(X[0:len(X)-1])     #gather all data ## index len(X)-1 will not be included here\n",
    "            Dy.append(X[len(X)-1])       #index len(X)-1 only\n",
    "            n=n+1\n",
    "        x = np.array(Dx)  #change list X into array x\n",
    "        y = np.array(Dy)\n",
    "    print(x,n)            \n",
    "    return x,y,n        \n",
    "\n",
    "\n",
    "def eout(w,testx,testy):\n",
    "    err = []\n",
    "    yhat = [np.dot(w,testx[i]) for i in range(testn)]\n",
    "\n",
    "    for a,b in zip(yhat,testy):\n",
    "        if a*b<=0:\n",
    "            err.append(1)\n",
    "        else:\n",
    "            err.append(0)\n",
    "    eout = sum(err) /testn\n",
    "    return eout\n",
    "\n",
    "\n",
    "trainx, trainy, trainn = readout('training_data.txt')\n",
    "testx, testy, testn    = readout('test_data.txt') \n",
    "\n",
    "#def Eout()"
   ]
  },
  {
   "cell_type": "code",
   "execution_count": 41,
   "metadata": {},
   "outputs": [
    {
     "name": "stdout",
     "output_type": "stream",
     "text": [
      "169.72504925727844\n"
     ]
    }
   ],
   "source": [
    "import time\n",
    "start_t0 = time.time()\n",
    "\n",
    "t = 0\n",
    "T = 20000\n",
    "eta = 0.001 \n",
    "w = np.zeros(len(trainx[0])) #initial w0\n",
    "Ein = 100\n",
    "while t<=T :  #and abs(Ein)>=0.001:\n",
    "    Etot = 0\n",
    "\n",
    "    for i in range(trainn):\n",
    "        s = np.dot(w,trainx[i])\n",
    "        gradEin_n = np.exp(-1*trainy[i]*s)/(1+np.exp(-1*trainy[i]*s))*-1*trainy[i]*trainx[i]\n",
    "        Etot = Etot+gradEin_n\n",
    "\n",
    "    gradEin = Etot/trainn\n",
    "    w = w-eta*gradEin   \n",
    "    Ein = sum(gradEin**2)/len(trainx[0])\n",
    "    t=t+1\n",
    "print(time.time()-start_t0)"
   ]
  },
  {
   "cell_type": "code",
   "execution_count": 42,
   "metadata": {},
   "outputs": [
    {
     "data": {
      "text/plain": [
       "0.22"
      ]
     },
     "execution_count": 42,
     "metadata": {},
     "output_type": "execute_result"
    }
   ],
   "source": [
    "Eout = eout(w,testx,testy)\n",
    "Eout"
   ]
  },
  {
   "cell_type": "code",
   "execution_count": 49,
   "metadata": {},
   "outputs": [
    {
     "name": "stdout",
     "output_type": "stream",
     "text": [
      "0.35160064697265625\n"
     ]
    }
   ],
   "source": [
    "#Stochastic Gradient Descent (SGD)\n",
    "import time\n",
    "start_t0 = time.time()\n",
    "\n",
    "t = 0\n",
    "T = 20000\n",
    "eta = 0.001 \n",
    "w = np.zeros(len(trainx[0])) #initial w0\n",
    "Ein = 100\n",
    "while t<=T :  \n",
    "    Etot = 0\n",
    "    i = t % trainn \n",
    "    s = np.dot(w,trainx[i])\n",
    "    gradEin = np.exp(-1*trainy[i]*s)/(1+np.exp(-1*trainy[i]*s))*-1*trainy[i]*trainx[i]\n",
    "    \n",
    "    w = w - eta*gradEin   \n",
    "    Ein = sum(gradEin**2)/len(trainx[0])\n",
    "    t=t+1\n",
    "    \n",
    "print(time.time()-start_t0)"
   ]
  },
  {
   "cell_type": "code",
   "execution_count": 47,
   "metadata": {},
   "outputs": [
    {
     "data": {
      "text/plain": [
       "0.21966666666666668"
      ]
     },
     "execution_count": 47,
     "metadata": {},
     "output_type": "execute_result"
    }
   ],
   "source": [
    "eout(w,testx,testy)"
   ]
  },
  {
   "cell_type": "code",
   "execution_count": null,
   "metadata": {},
   "outputs": [],
   "source": []
  },
  {
   "cell_type": "code",
   "execution_count": null,
   "metadata": {},
   "outputs": [],
   "source": []
  },
  {
   "cell_type": "code",
   "execution_count": null,
   "metadata": {},
   "outputs": [],
   "source": []
  },
  {
   "cell_type": "code",
   "execution_count": null,
   "metadata": {},
   "outputs": [],
   "source": []
  },
  {
   "cell_type": "code",
   "execution_count": null,
   "metadata": {},
   "outputs": [],
   "source": []
  },
  {
   "cell_type": "code",
   "execution_count": null,
   "metadata": {},
   "outputs": [],
   "source": []
  },
  {
   "cell_type": "code",
   "execution_count": null,
   "metadata": {},
   "outputs": [],
   "source": []
  },
  {
   "cell_type": "code",
   "execution_count": null,
   "metadata": {},
   "outputs": [],
   "source": []
  },
  {
   "cell_type": "code",
   "execution_count": null,
   "metadata": {},
   "outputs": [],
   "source": []
  },
  {
   "cell_type": "code",
   "execution_count": null,
   "metadata": {},
   "outputs": [],
   "source": []
  },
  {
   "cell_type": "code",
   "execution_count": null,
   "metadata": {},
   "outputs": [],
   "source": []
  },
  {
   "cell_type": "code",
   "execution_count": null,
   "metadata": {},
   "outputs": [],
   "source": []
  },
  {
   "cell_type": "code",
   "execution_count": null,
   "metadata": {},
   "outputs": [],
   "source": []
  },
  {
   "cell_type": "code",
   "execution_count": null,
   "metadata": {},
   "outputs": [],
   "source": []
  },
  {
   "cell_type": "code",
   "execution_count": null,
   "metadata": {},
   "outputs": [],
   "source": []
  },
  {
   "cell_type": "code",
   "execution_count": null,
   "metadata": {},
   "outputs": [],
   "source": []
  },
  {
   "cell_type": "code",
   "execution_count": null,
   "metadata": {},
   "outputs": [],
   "source": []
  },
  {
   "cell_type": "code",
   "execution_count": null,
   "metadata": {},
   "outputs": [],
   "source": []
  },
  {
   "cell_type": "code",
   "execution_count": null,
   "metadata": {},
   "outputs": [],
   "source": []
  },
  {
   "cell_type": "code",
   "execution_count": null,
   "metadata": {},
   "outputs": [],
   "source": []
  },
  {
   "cell_type": "code",
   "execution_count": null,
   "metadata": {},
   "outputs": [],
   "source": []
  },
  {
   "cell_type": "code",
   "execution_count": null,
   "metadata": {},
   "outputs": [],
   "source": []
  },
  {
   "cell_type": "code",
   "execution_count": null,
   "metadata": {},
   "outputs": [],
   "source": []
  },
  {
   "cell_type": "code",
   "execution_count": null,
   "metadata": {},
   "outputs": [],
   "source": []
  },
  {
   "cell_type": "code",
   "execution_count": null,
   "metadata": {},
   "outputs": [],
   "source": []
  },
  {
   "cell_type": "code",
   "execution_count": null,
   "metadata": {},
   "outputs": [],
   "source": []
  },
  {
   "cell_type": "code",
   "execution_count": null,
   "metadata": {},
   "outputs": [],
   "source": []
  },
  {
   "cell_type": "code",
   "execution_count": null,
   "metadata": {},
   "outputs": [],
   "source": []
  },
  {
   "cell_type": "code",
   "execution_count": null,
   "metadata": {},
   "outputs": [],
   "source": []
  },
  {
   "cell_type": "code",
   "execution_count": null,
   "metadata": {},
   "outputs": [],
   "source": []
  },
  {
   "cell_type": "code",
   "execution_count": null,
   "metadata": {},
   "outputs": [],
   "source": []
  },
  {
   "cell_type": "code",
   "execution_count": null,
   "metadata": {},
   "outputs": [],
   "source": []
  },
  {
   "cell_type": "code",
   "execution_count": null,
   "metadata": {},
   "outputs": [],
   "source": []
  },
  {
   "cell_type": "code",
   "execution_count": null,
   "metadata": {},
   "outputs": [],
   "source": []
  },
  {
   "cell_type": "code",
   "execution_count": null,
   "metadata": {},
   "outputs": [],
   "source": []
  },
  {
   "cell_type": "code",
   "execution_count": null,
   "metadata": {},
   "outputs": [],
   "source": []
  },
  {
   "cell_type": "code",
   "execution_count": null,
   "metadata": {},
   "outputs": [],
   "source": []
  },
  {
   "cell_type": "code",
   "execution_count": null,
   "metadata": {},
   "outputs": [],
   "source": []
  },
  {
   "cell_type": "code",
   "execution_count": null,
   "metadata": {},
   "outputs": [],
   "source": []
  }
 ],
 "metadata": {
  "kernelspec": {
   "display_name": "Python 3",
   "language": "python",
   "name": "python3"
  },
  "language_info": {
   "codemirror_mode": {
    "name": "ipython",
    "version": 3
   },
   "file_extension": ".py",
   "mimetype": "text/x-python",
   "name": "python",
   "nbconvert_exporter": "python",
   "pygments_lexer": "ipython3",
   "version": "3.7.6"
  }
 },
 "nbformat": 4,
 "nbformat_minor": 4
}
