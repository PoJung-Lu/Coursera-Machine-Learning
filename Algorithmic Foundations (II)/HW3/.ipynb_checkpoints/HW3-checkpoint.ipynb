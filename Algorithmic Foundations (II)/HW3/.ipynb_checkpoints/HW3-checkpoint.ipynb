{
 "cells": [
  {
   "cell_type": "code",
   "execution_count": 1,
   "metadata": {},
   "outputs": [],
   "source": [
    "import numpy as np"
   ]
  },
  {
   "cell_type": "code",
   "execution_count": 2,
   "metadata": {},
   "outputs": [
    {
     "name": "stdout",
     "output_type": "stream",
     "text": [
      "(-2.0, 0.0)\n"
     ]
    }
   ],
   "source": [
    "#Q7:\n",
    "u, v, uprime, vprime= 0.0,0.0,0.0,0.0\n",
    "gradE = (np.exp(u) +v*np.exp(u*v) +2*u -2*v -3, 2*np.exp(2*v) +u*np.exp(u*v) -2*u +4*v -2)\n",
    "print(gradE)"
   ]
  },
  {
   "cell_type": "code",
   "execution_count": 3,
   "metadata": {},
   "outputs": [
    {
     "name": "stdout",
     "output_type": "stream",
     "text": [
      "0.02 0.0\n",
      "0.03939798659973244 0.00020000000000000017\n",
      "0.05821018304471123 0.000577975161369042\n",
      "0.07645238140853602 0.0011138060269582928\n",
      "0.09413996302028127 0.0017891105951028273\n"
     ]
    }
   ],
   "source": [
    "u,v = 0,0\n",
    "for i in range(5): \n",
    "    gradE = (np.exp(u) +v*np.exp(u*v) +2*u -2*v -3, 2*np.exp(2*v) +u*np.exp(u*v) -2*u +4*v -2)\n",
    "    (u,v) = ((x-0.01*y) for (x,y) in zip((u,v),gradE))\n",
    "    print(u,v)\n"
   ]
  },
  {
   "cell_type": "code",
   "execution_count": 4,
   "metadata": {},
   "outputs": [
    {
     "data": {
      "text/plain": [
       "2.8250003566832635"
      ]
     },
     "execution_count": 4,
     "metadata": {},
     "output_type": "execute_result"
    }
   ],
   "source": [
    "#u,v = 0,0\n",
    "E = np.exp(u) +np.exp(2*v) +np.exp(u*v) +u**2 -2*u*v +2*v**2 -3*u-2*v\n",
    "E"
   ]
  },
  {
   "cell_type": "code",
   "execution_count": 5,
   "metadata": {},
   "outputs": [
    {
     "name": "stdout",
     "output_type": "stream",
     "text": [
      " Eave =  0.50589 \n",
      " wlin =  [ 0.06190652 -0.00949534 -0.04381873]\n"
     ]
    }
   ],
   "source": [
    "#Q13:\n",
    "import random\n",
    "\n",
    "t = 0\n",
    "Etot = 0\n",
    "\n",
    "while t< 100:\n",
    "\n",
    "    N = 1000\n",
    "    err = []\n",
    "    X, X0, y, y0 = [], [], [], []\n",
    "    \n",
    "    for i in range(N):\n",
    "        x1,x2 = random.uniform(-1.0,1.0) ,random.uniform(-1.0,1.0)   # -1<=x1<=1  -1<=x2<=1\n",
    "        f = np.sign(x1**2 + x2**2 - 0.6)                              \n",
    "        if random.random() <= 0.1 :                                  #10% flipping noise\n",
    "            noise = -1\n",
    "        else:\n",
    "            noise = 1\n",
    "\n",
    "        X.append([1,x1,x2])       #X  matrix  N*d+1   \n",
    "        y0.append(f)\n",
    "        y.append(f*noise)\n",
    "    Y0 = np.transpose(y0)        #Y0 vector N*1\n",
    "    Y = np.transpose(y)          #Y vector  N*1\n",
    "\n",
    "\n",
    "    psudoinv = np.linalg.pinv(X)       #psudoinv  d+1*N\n",
    "    wlin = np.dot(psudoinv,Y)  #wlin= psudoinv* Y\n",
    "    yhat = np.dot(X,wlin)\n",
    "\n",
    "    for a,b in zip(yhat,Y):\n",
    "        if a*b<=0:\n",
    "            err.append(1)\n",
    "        else:\n",
    "            err.append(0)\n",
    "    Ein = sum(err) /N   \n",
    "    Etot = Etot+ Ein\n",
    "    t = t+1\n",
    "Eave = Etot/t     \n",
    "print(' Eave = ',Eave,'\\n','wlin = ',wlin)"
   ]
  },
  {
   "cell_type": "code",
   "execution_count": 6,
   "metadata": {},
   "outputs": [
    {
     "name": "stdout",
     "output_type": "stream",
     "text": [
      "Eave =  0.12561 \n",
      " wlin =  [-0.92983195 -0.04159706  0.00592399  0.0543253   1.42807538  1.48213649]\n"
     ]
    }
   ],
   "source": [
    "#Q14\n",
    "\n",
    "t = 0\n",
    "Etot = 0\n",
    "\n",
    "while t< 100:\n",
    "\n",
    "    N = 1000\n",
    "    err = []\n",
    "    X, X0 ,y ,y0 = [],[] ,[] ,[]\n",
    "    \n",
    "    for i in range(N):\n",
    "        x1,x2 = random.uniform(-1.0,1.0) ,random.uniform(-1.0,1.0) \n",
    "        f = np.sign(x1**2 + x2**2 - 0.6)\n",
    "        #random.choices([-1.0,1.0], weights=[10, 90])[0]\n",
    "        if random.random() <= 0.1 :    \n",
    "            noise = -1\n",
    "        else:\n",
    "            noise = 1\n",
    "\n",
    "        X.append([1,x1,x2,x1*x2,x1**2,x2**2])       #X  matrix  N*d+1\n",
    "        y0.append(f)\n",
    "        y.append(f*noise)\n",
    "    Y0 = np.transpose(y0)        #Y0 vector N*1\n",
    "    Y = np.transpose(y)          #Y vector  N*1\n",
    "\n",
    "\n",
    "    psudoinv = np.linalg.pinv(X)       #psudoinv  d+1*N\n",
    "    wlin = np.dot(psudoinv,Y)  #wlin= psudoinv* Y\n",
    "    yhat = np.dot(X,wlin)\n",
    "\n",
    "    for a,b in zip(yhat,Y):\n",
    "        if a*b<=0:\n",
    "            err.append(1)\n",
    "        else:\n",
    "            err.append(0)\n",
    "    Ein = sum(err) /N   \n",
    "    Etot = Etot+ Ein\n",
    "    t = t+1\n",
    "    \n",
    "    \n",
    "Eave = Etot/t     \n",
    "print('Eave = ',Eave,'\\n', 'wlin = ',wlin)\n",
    "\n"
   ]
  },
  {
   "cell_type": "code",
   "execution_count": 7,
   "metadata": {},
   "outputs": [
    {
     "data": {
      "text/plain": [
       "0.087"
      ]
     },
     "execution_count": 7,
     "metadata": {},
     "output_type": "execute_result"
    }
   ],
   "source": [
    "i = 0\n",
    "n = 10000000\n",
    "for j in range(N):\n",
    "    if random.random() <= 0.1 :\n",
    "        noise = -1\n",
    "        i = i+1\n",
    "    else:\n",
    "        noise = 1\n",
    "i/N"
   ]
  },
  {
   "cell_type": "code",
   "execution_count": 8,
   "metadata": {},
   "outputs": [
    {
     "data": {
      "text/plain": [
       "54"
      ]
     },
     "execution_count": 8,
     "metadata": {},
     "output_type": "execute_result"
    }
   ],
   "source": [
    "b = np.array([2,3,4,5])\n",
    "np.dot(b,b)"
   ]
  },
  {
   "cell_type": "code",
   "execution_count": 57,
   "metadata": {},
   "outputs": [
    {
     "name": "stdout",
     "output_type": "stream",
     "text": [
      "[[1.       0.57548  0.53938  ... 0.38317  0.35514  0.39439 ]\n",
      " [1.       0.70727  0.88503  ... 0.39012  0.68854  0.077076]\n",
      " [1.       0.24443  0.27331  ... 0.52541  0.93579  0.69411 ]\n",
      " ...\n",
      " [1.       0.18265  0.021352 ... 0.030984 0.99831  0.13292 ]\n",
      " [1.       0.27829  0.66993  ... 0.79203  0.76995  0.93146 ]\n",
      " [1.       0.9796   0.47349  ... 0.16425  0.24958  0.46893 ]] 1000\n",
      "[[1.       0.26502  0.5486   ... 0.85909  0.26772  0.13751 ]\n",
      " [1.       0.33274  0.4236   ... 0.78459  0.3385   0.95746 ]\n",
      " [1.       0.39866  0.8519   ... 0.70907  0.46856  0.41686 ]\n",
      " ...\n",
      " [1.       0.15646  0.92112  ... 0.35137  0.87387  0.53971 ]\n",
      " [1.       0.88009  0.35045  ... 0.36721  0.54853  0.043504]\n",
      " [1.       0.75742  0.55526  ... 0.80518  0.66021  0.24521 ]] 3000\n"
     ]
    }
   ],
   "source": [
    "#Q18:\n",
    "import requests\n",
    "import numpy as np\n",
    "\n",
    "\n",
    "def download_data(url,filename):    #download file as data\n",
    "    result = requests.get(url)\n",
    "    result.raise_for_status()\n",
    "    with open(filename,'wb') as FILE:\n",
    "        for chunk in result.iter_content(102400):\n",
    "            FILE.write(chunk)\n",
    "            \n",
    "url01 = 'https://www.csie.ntu.edu.tw/~htlin/mooc/datasets/mlfound_algo/hw3_train.dat'\n",
    "url02 = 'https://www.csie.ntu.edu.tw/~htlin/mooc/datasets/mlfound_algo/hw3_test.dat'\n",
    "download_data(url01, 'training_data.txt')\n",
    "download_data(url02, 'test_data.txt')\n",
    "    \n",
    "    \n",
    "def readout(filename):\n",
    "    with open(filename,'r') as FILE:\n",
    "        n, Dx, Dy = 0 ,[], []\n",
    "        \n",
    "        for chunk in FILE:\n",
    "            X= chunk.split()   #split the line into a list of string\n",
    "            X= [ float(X[j]) for j in range(len(X)) ]  #convert the string to numbers   \n",
    "            X.insert(0,1)\n",
    "            Dx.append(X[0:len(X)-1])     #gather all data ## index len(X)-1 will not be included here\n",
    "            Dy.append(X[len(X)-1])       #index len(X)-1 only\n",
    "            n=n+1\n",
    "        x = np.array(Dx)  #change list X into array x\n",
    "        y = np.array(Dy)\n",
    "    print(x,n)            \n",
    "    return x,y,n        \n",
    "\n",
    "trainx, trainy, trainn = readout('training_data.txt')\n",
    "testx, testy, testn    = readout('test_data.txt') \n",
    "\n"
   ]
  },
  {
   "cell_type": "code",
   "execution_count": 62,
   "metadata": {},
   "outputs": [
    {
     "data": {
      "text/plain": [
       "array([0., 0., 0., 0., 0., 0., 0., 0., 0., 0., 0., 0., 0., 0., 0., 0., 0.,\n",
       "       0., 0., 0., 0.])"
      ]
     },
     "execution_count": 62,
     "metadata": {},
     "output_type": "execute_result"
    }
   ],
   "source": [
    "w = np.zeros(len(trainx[0]))\n",
    "w"
   ]
  },
  {
   "cell_type": "code",
   "execution_count": 66,
   "metadata": {},
   "outputs": [],
   "source": [
    "t = 0\n",
    "w = np.zeros(len(trainx[0])) #initial w0\n",
    "Ein = 100\n",
    "while t<=1000 and Ein>=0.001:\n",
    "    for i in range(trainn):\n",
    "        s = np.dot(w,trainx[i])\n",
    "        \n",
    "    t=t+1\n",
    "        "
   ]
  },
  {
   "cell_type": "code",
   "execution_count": 55,
   "metadata": {},
   "outputs": [],
   "source": []
  },
  {
   "cell_type": "code",
   "execution_count": 40,
   "metadata": {},
   "outputs": [
    {
     "data": {
      "text/plain": [
       "-1.0"
      ]
     },
     "execution_count": 40,
     "metadata": {},
     "output_type": "execute_result"
    }
   ],
   "source": [
    "X[20]"
   ]
  },
  {
   "cell_type": "code",
   "execution_count": 41,
   "metadata": {},
   "outputs": [],
   "source": [
    "A = [0,1,2,3,4,5]"
   ]
  },
  {
   "cell_type": "code",
   "execution_count": 44,
   "metadata": {},
   "outputs": [
    {
     "data": {
      "text/plain": [
       "[0, 1, 2, 3, 4, 5]"
      ]
     },
     "execution_count": 44,
     "metadata": {},
     "output_type": "execute_result"
    }
   ],
   "source": [
    "A[0:6]"
   ]
  },
  {
   "cell_type": "code",
   "execution_count": 51,
   "metadata": {},
   "outputs": [
    {
     "name": "stdout",
     "output_type": "stream",
     "text": [
      "0 1 2 3 4 5 [0, 1, 2, 3, 4, 5]\n"
     ]
    }
   ],
   "source": [
    "print(A[0],A[1],A[2],A[3],A[4],A[5],A[0:6])"
   ]
  },
  {
   "cell_type": "code",
   "execution_count": null,
   "metadata": {},
   "outputs": [],
   "source": []
  },
  {
   "cell_type": "code",
   "execution_count": null,
   "metadata": {},
   "outputs": [],
   "source": []
  }
 ],
 "metadata": {
  "kernelspec": {
   "display_name": "Python 3",
   "language": "python",
   "name": "python3"
  },
  "language_info": {
   "codemirror_mode": {
    "name": "ipython",
    "version": 3
   },
   "file_extension": ".py",
   "mimetype": "text/x-python",
   "name": "python",
   "nbconvert_exporter": "python",
   "pygments_lexer": "ipython3",
   "version": "3.7.6"
  }
 },
 "nbformat": 4,
 "nbformat_minor": 4
}
